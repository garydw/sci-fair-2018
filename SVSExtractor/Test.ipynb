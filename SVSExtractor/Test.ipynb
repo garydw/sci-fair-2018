{
 "cells": [
  {
   "cell_type": "code",
   "execution_count": 1,
   "metadata": {},
   "outputs": [],
   "source": [
    "import openslide\n",
    "import numpy as np\n",
    "import matplotlib as plt\n",
    "from openslide.deepzoom import DeepZoomGenerator\n",
    "import math\n",
    "import random"
   ]
  },
  {
   "cell_type": "code",
   "execution_count": 2,
   "metadata": {},
   "outputs": [],
   "source": [
    "import cv2"
   ]
  },
  {
   "cell_type": "code",
   "execution_count": 3,
   "metadata": {},
   "outputs": [],
   "source": [
    "from sklearn.preprocessing import normalize"
   ]
  },
  {
   "cell_type": "code",
   "execution_count": 73,
   "metadata": {},
   "outputs": [],
   "source": [
    "s = openslide.OpenSlide(r\"C:\\Users\\matthew\\Downloads\\TCGA-HC-7081-01A-01-TS1.6d85eaa2-aaa8-404c-8be1-f1be693b1792.svs\")"
   ]
  },
  {
   "cell_type": "code",
   "execution_count": 27,
   "metadata": {},
   "outputs": [],
   "source": [
    "from sklearn import preprocessing"
   ]
  },
  {
   "cell_type": "code",
   "execution_count": 74,
   "metadata": {},
   "outputs": [],
   "source": [
    "pil = s.associated_images['thumbnail'].convert('RGB')\n",
    "cv_im = np.array(pil)\n",
    "cv_im = cv2.cvtColor(cv_im, cv2.COLOR_RGB2BGR)\n",
    "avg_blur7 = cv2.blur(cv_im,(9,9))\n",
    "gray_scale = cv2.cvtColor(avg_blur7,cv2.COLOR_BGR2GRAY)\n",
    "ret, otsu = cv2.threshold(gray_scale, 0, 255, cv2.THRESH_BINARY+cv2.THRESH_OTSU)\n",
    "#cv2.imshow('image2', otsu)\n",
    "kernel = np.ones((5,5), np.uint8)\n",
    "dilated = cv2.dilate(otsu, kernel, iterations=5)\n",
    "black = [(x, y) for x in range(len(dilated)) for y in range(len(dilated[x])) if dilated[x][y] == 0]\n",
    "#cv2.imshow('img2', cv_im)\n",
    "#cv2.imshow('img1', otsu)\n",
    "#cv2.imshow('img', dilated)\n",
    "#cv2.waitKey(0)\n",
    "#cv2.destroyAllWindows()"
   ]
  },
  {
   "cell_type": "code",
   "execution_count": 131,
   "metadata": {},
   "outputs": [
    {
     "data": {
      "text/plain": [
       "True"
      ]
     },
     "execution_count": 131,
     "metadata": {},
     "output_type": "execute_result"
    }
   ],
   "source": [
    "dil = np.array(dilated > 0)\n",
    "np.any(dil)"
   ]
  },
  {
   "cell_type": "code",
   "execution_count": 10,
   "metadata": {},
   "outputs": [],
   "source": [
    "test = cv_im.copy()\n",
    "for coord in black:\n",
    "    test.itemset((coord[0],coord[1], 0), 0)\n",
    "    test.itemset((coord[0],coord[1], 1), 0)\n",
    "    test.itemset((coord[0],coord[1], 2), 0)"
   ]
  },
  {
   "cell_type": "code",
   "execution_count": 6,
   "metadata": {},
   "outputs": [],
   "source": [
    "pixel_ar = np.reshape(cv_im, (549888,3))"
   ]
  },
  {
   "cell_type": "code",
   "execution_count": 7,
   "metadata": {},
   "outputs": [],
   "source": [
    "normalized = normalize(pixel_ar,norm='max')\n",
    "norm = np.reshape(normalized, (768, 716, 3))"
   ]
  },
  {
   "cell_type": "code",
   "execution_count": 8,
   "metadata": {},
   "outputs": [
    {
     "data": {
      "text/plain": [
       "array([[ 1.        ,  1.        ,  1.        ],\n",
       "       [ 1.        ,  1.        ,  1.        ],\n",
       "       [ 1.        ,  1.        ,  1.        ],\n",
       "       ..., \n",
       "       [ 1.        ,  0.98755187,  0.99170124],\n",
       "       [ 1.        ,  0.99166667,  0.99583333],\n",
       "       [ 1.        ,  0.99166667,  0.99166667]])"
      ]
     },
     "execution_count": 8,
     "metadata": {},
     "output_type": "execute_result"
    }
   ],
   "source": [
    "norm.reshape(549888,3)"
   ]
  },
  {
   "cell_type": "code",
   "execution_count": 10,
   "metadata": {},
   "outputs": [],
   "source": [
    "cv2.imshow('img', norm)\n",
    "cv2.waitKey(0)\n",
    "cv2.destroyAllWindows()"
   ]
  },
  {
   "cell_type": "code",
   "execution_count": 24,
   "metadata": {},
   "outputs": [],
   "source": [
    "def inside(coords, iterations, image):\n",
    "    def surrounded(x, y, image):\n",
    "        if x >= len(image) - 1:\n",
    "            return False\n",
    "        elif y >= len(image[x]) - 1:\n",
    "            return False\n",
    "        elif image[x-1][y-1] != 0:\n",
    "            return False\n",
    "        elif image[x][y-1] != 0:\n",
    "            return False\n",
    "        elif image[x+1][y-1] != 0:\n",
    "            return False\n",
    "        elif image[x-1][y] != 0:\n",
    "            return False\n",
    "        elif image[x+1][y] != 0:\n",
    "            return False\n",
    "        elif image[x-1][y+1] != 0:\n",
    "            return False\n",
    "        elif image[x][y+1] != 0:\n",
    "            return False\n",
    "        elif image[x+1][y+1] != 0:\n",
    "            return False\n",
    "        else:\n",
    "            return True\n",
    "    l_prev = coords\n",
    "    for i in range(iterations):\n",
    "        l = [(x,y) for x,y in l_prev if surrounded(x, y, otsu)]\n",
    "        l_prev = l\n",
    "    return l_prev"
   ]
  },
  {
   "cell_type": "code",
   "execution_count": 28,
   "metadata": {},
   "outputs": [],
   "source": [
    "img = cv_im.copy()\n",
    "test = inside(black, 5, img)\n",
    "for coord in test:\n",
    "    img.itemset((coord[0],coord[1], 0), 0)\n",
    "    img.itemset((coord[0],coord[1], 1), 0)\n",
    "    img.itemset((coord[0],coord[1], 2), 0)\n",
    "cv2.imshow('img', img)\n",
    "cv2.waitKey(0)\n",
    "cv2.destroyAllWindows()"
   ]
  },
  {
   "cell_type": "code",
   "execution_count": 14,
   "metadata": {},
   "outputs": [
    {
     "name": "stdout",
     "output_type": "stream",
     "text": [
      "aperio.AppMag\n",
      "aperio.DSR ID\n",
      "aperio.Date\n",
      "aperio.DisplayColor\n",
      "aperio.Exposure Scale\n",
      "aperio.Exposure Time\n",
      "aperio.Filename\n",
      "aperio.Focus Offset\n",
      "aperio.ICC Profile\n",
      "aperio.ImageID\n",
      "aperio.Left\n",
      "aperio.LineAreaXOffset\n",
      "aperio.LineAreaYOffset\n",
      "aperio.LineCameraSkew\n",
      "aperio.MPP\n",
      "aperio.OriginalHeight\n",
      "aperio.OriginalWidth\n",
      "aperio.ScanScope ID\n",
      "aperio.StripeWidth\n",
      "aperio.Time\n",
      "aperio.Time Zone\n",
      "aperio.Top\n",
      "aperio.User\n",
      "openslide.comment\n",
      "openslide.level-count\n",
      "openslide.level[0].downsample\n",
      "openslide.level[0].height\n",
      "openslide.level[0].tile-height\n",
      "openslide.level[0].tile-width\n",
      "openslide.level[0].width\n",
      "openslide.level[1].downsample\n",
      "openslide.level[1].height\n",
      "openslide.level[1].tile-height\n",
      "openslide.level[1].tile-width\n",
      "openslide.level[1].width\n",
      "openslide.level[2].downsample\n",
      "openslide.level[2].height\n",
      "openslide.level[2].tile-height\n",
      "openslide.level[2].tile-width\n",
      "openslide.level[2].width\n",
      "openslide.mpp-x\n",
      "openslide.mpp-y\n",
      "openslide.objective-power\n",
      "openslide.quickhash-1\n",
      "openslide.vendor\n",
      "tiff.ImageDescription\n",
      "tiff.ResolutionUnit\n"
     ]
    }
   ],
   "source": [
    "for key, value in s.properties.items():\n",
    "    print(key)"
   ]
  },
  {
   "cell_type": "code",
   "execution_count": 23,
   "metadata": {},
   "outputs": [
    {
     "name": "stdout",
     "output_type": "stream",
     "text": [
      "26858\n"
     ]
    }
   ],
   "source": [
    "print(s.properties['openslide.level[0].width'])"
   ]
  },
  {
   "cell_type": "code",
   "execution_count": 3,
   "metadata": {},
   "outputs": [],
   "source": [
    "def normalize_staining(sample, beta=0.15, alpha=1, light_intensity=255):\n",
    "    #print(stain_ref)\n",
    "    h, w, c = sample.shape\n",
    "    pixel_ar = np.asarray(sample).reshape(-1, c)\n",
    "    x = pixel_ar.astype(np.float64)\n",
    "    od = -np.log10(x / light_intensity + 1e-8)\n",
    "    od_thresh = od[np.all(od >= beta, 1), :]\n",
    "    U, s, V = np.linalg.svd(od_thresh, full_matrices=False)\n",
    "    top_eigvecs = V[0:2, :].T * -1\n",
    "    proj = np.dot(od_thresh, top_eigvecs)\n",
    "    angles = np.arctan2(proj[:, 1], proj[:, 0])\n",
    "    min_angle = np.percentile(angles, alpha)\n",
    "    max_angle = np.percentile(angles, 100 - alpha)\n",
    "    extreme_angles = np.array([[np.cos(min_angle), np.cos(max_angle)],\n",
    "                               [np.sin(min_angle), np.sin(max_angle)]])\n",
    "    stains = np.dot(top_eigvecs, extreme_angles)\n",
    "    if stains[0, 0] < stains[0, 1]:\n",
    "        stains[:, [0, 1]] = stains[:, [1, 0]]\n",
    "    sats, _, _, _ = np.linalg.lstsq(stains, od.T)\n",
    "    max_sat = np.percentile(sats, 99, axis=1, keepdims=True)\n",
    "    sats = sats / max_sat * max_sat_ref\n",
    "    od_norm = np.dot(stain_ref, sats)\n",
    "    x_norm = 10**(-od_norm) * light_intensity - 1e-8\n",
    "    x_norm = np.clip(np.round(x_norm), 0, 255).astype(np.uint8)\n",
    "    x_norm = x_norm.T.reshape(h, w, c)\n",
    "    return x_norm"
   ]
  },
  {
   "cell_type": "code",
   "execution_count": 105,
   "metadata": {},
   "outputs": [
    {
     "name": "stdout",
     "output_type": "stream",
     "text": [
      "[[ 0.50189299  0.35499276]\n",
      " [ 0.79191048  0.72487028]\n",
      " [ 0.34782354  0.59037549]]\n"
     ]
    }
   ],
   "source": [
    "cv2.imshow('img', normalize_staining(cv_im))\n",
    "cv2.waitKey(0)\n",
    "cv2.destroyAllWindows()"
   ]
  },
  {
   "cell_type": "code",
   "execution_count": 4,
   "metadata": {},
   "outputs": [],
   "source": [
    "def find_refs(sample, beta=0.15, alpha=1, light_intensity=255):\n",
    "    h, w, c = sample.shape\n",
    "    #stain_ref = (np.array([0.54598845, 0.322116, 0.72385198, 0.76419107, 0.42182333, 0.55879629])\n",
    "                 #.reshape(3,2))\n",
    "    #max_sat_ref = np.array([0.82791151, 0.61137274]).reshape(2,1)\n",
    "    pixel_ar = np.asarray(sample).reshape(-1, c)\n",
    "    x = pixel_ar.astype(np.float64)\n",
    "    od = -np.log10(x / light_intensity + 1e-8)\n",
    "    od_thresh = od[np.all(od >= beta, 1), :]\n",
    "    U, s, V = np.linalg.svd(od_thresh, full_matrices=False)\n",
    "    top_eigvecs = V[0:2, :].T * -1\n",
    "    proj = np.dot(od_thresh, top_eigvecs)\n",
    "    angles = np.arctan2(proj[:, 1], proj[:, 0])\n",
    "    min_angle = np.percentile(angles, alpha)\n",
    "    max_angle = np.percentile(angles, 100 - alpha)\n",
    "    extreme_angles = np.array([[np.cos(min_angle), np.cos(max_angle)],\n",
    "                               [np.sin(min_angle), np.sin(max_angle)]])\n",
    "    stains = np.dot(top_eigvecs, extreme_angles)\n",
    "    if stains[0, 0] < stains[0, 1]:\n",
    "        stains[:, [0, 1]] = stains[:, [1, 0]]\n",
    "    sats, _, _, _ = np.linalg.lstsq(stains, od.T)\n",
    "    max_sat = np.percentile(sats, 99, axis=1, keepdims=True)\n",
    "    return (stains, max_sat)"
   ]
  },
  {
   "cell_type": "code",
   "execution_count": 9,
   "metadata": {},
   "outputs": [],
   "source": [
    "test_im = s.read_region((s.dimensions[1] // 2 + 512, s.dimensions[0] // 2 + 512), 0, (512, 512))\n",
    "tile = np.array(test_im.convert('RGB'))\n",
    "tile = cv2.cvtColor(tile, cv2.COLOR_RGB2BGR)"
   ]
  },
  {
   "cell_type": "code",
   "execution_count": 108,
   "metadata": {},
   "outputs": [
    {
     "name": "stdout",
     "output_type": "stream",
     "text": [
      "[[ 0.50189299  0.35499276]\n",
      " [ 0.79191048  0.72487028]\n",
      " [ 0.34782354  0.59037549]]\n"
     ]
    }
   ],
   "source": [
    "cv2.imshow('img2', tile)\n",
    "cv2.imshow('img', normalize_staining(tile))\n",
    "cv2.waitKey(0)\n",
    "cv2.destroyAllWindows()"
   ]
  },
  {
   "cell_type": "code",
   "execution_count": 10,
   "metadata": {},
   "outputs": [],
   "source": [
    "tup = find_refs(tile)"
   ]
  },
  {
   "cell_type": "code",
   "execution_count": 5,
   "metadata": {},
   "outputs": [],
   "source": [
    "global stain_ref \n",
    "global max_sat_ref"
   ]
  },
  {
   "cell_type": "code",
   "execution_count": 48,
   "metadata": {},
   "outputs": [],
   "source": [
    "def create_tile_generator(slide, tile_size, overlap):\n",
    "    generator = DeepZoomGenerator(slide, tile_size=tile_size, overlap=overlap, limit_bounds=True)\n",
    "    return generator\n",
    "def get_zoom_level(slide, zoom, generator):\n",
    "    highest_zoom_level = generator.level_count - 1\n",
    "    try: \n",
    "        mag = int(slide.properties[openslide.PROPERTY_NAME_OBJECTIVE_POWER])\n",
    "        offset = math.floor(mag / zoom / 2)\n",
    "        level = highest_zoom_level - offset\n",
    "    except (ValueError, KeyError) as e:\n",
    "        level = highest_zoom_level\n",
    "    return level\n",
    "def pil2cv2(img):\n",
    "    img = np.array(img.convert('RGB'))\n",
    "    img = cv2.cvtColor(img, cv2.COLOR_RGB2BGR)\n",
    "    return img\n",
    "def select_tile(slide, zoom_level, h, w):\n",
    "    gen = create_tile_generator(slide, 512, 0)\n",
    "    start_tile_r = h // 512 #not index\n",
    "    start_tile_c = w // 512 #not index\n",
    "    start_tile_h = h % 512\n",
    "    start_tile_w = w % 512\n",
    "    #print('h', h, 'w', w)\n",
    "    tiles = np.array([[pil2cv2(gen.get_tile(zoom_level, (start_tile_c - 1, start_tile_r - 1))), pil2cv2(gen.get_tile(zoom_level, (start_tile_c, start_tile_r - 1)))],\n",
    "                      [pil2cv2(gen.get_tile(zoom_level, (start_tile_c - 1, start_tile_r))), pil2cv2(gen.get_tile(zoom_level, (start_tile_c, start_tile_r)))]])\n",
    "    top_row = np.concatenate((tiles[0][0], tiles[0][1]), axis=1)\n",
    "    bottom_row = np.concatenate((tiles[1][0], tiles[1][1]), axis=1)\n",
    "    tile = np.concatenate((top_row, bottom_row), axis=0)\n",
    "    section = tile[start_tile_r - 1:start_tile_r + 511, start_tile_c - 1:start_tile_c + 511,:]\n",
    "    return section"
   ]
  },
  {
   "cell_type": "code",
   "execution_count": 56,
   "metadata": {},
   "outputs": [],
   "source": [
    "def possible_coordinates(slide, zoom):\n",
    "    cv_im = np.array(slide.associated_images['thumbnail'].convert('RGB'))\n",
    "    cv_im = cv2.cvtColor(cv_im, cv2.COLOR_RGB2BGR)\n",
    "    avg_blur = cv2.blur(cv_im, (9, 9))\n",
    "    gray_scale = cv2.cvtColor(avg_blur, cv2.COLOR_BGR2GRAY)\n",
    "    ret, otsu = cv2.threshold(gray_scale, 0, 255, cv2.THRESH_BINARY + cv2.THRESH_OTSU)\n",
    "    kernel = np.ones((3, 3), np.uint8)\n",
    "    dilated = cv2.dilate(otsu, kernel, iterations=9) #h, w\n",
    "    print_image(dilated)\n",
    "    thumb_black = [(w, h) for h in range(len(dilated)) for w in range(len(dilated[0])) if dilated[h][w] == 0] #w, h\n",
    "    gen = create_tile_generator(slide, 512, 0)\n",
    "    level = get_zoom_level(slide, zoom, gen)\n",
    "    level_w, level_h = gen.level_tiles[level]\n",
    "    level_w *= 512\n",
    "    level_h *= 512\n",
    "    #print('level w', level_w, 'level_h', level_h)\n",
    "    thumb_h, thumb_w = cv_im.shape[0:2]\n",
    "    thumb_tile_h, thumb_tile_w = math.floor(512 / level_h * thumb_h), math.floor(512 / level_w * thumb_w)\n",
    "    start_coords = []\n",
    "    while len(start_coords) <= 20:\n",
    "        rand = random.randint(0, len(thumb_black) - 1)\n",
    "        start_coord = thumb_black[rand]\n",
    "        if not (start_coord[0] + thumb_tile_w >= thumb_w or start_coord[1] + thumb_tile_h >= thumb_h or start_coord[0] - thumb_tile_w  <= 0 or start_coord[1] - thumb_tile_h <= 0):\n",
    "            area = dilated[start_coord[1]:start_coord[1] + thumb_tile_h + 1, start_coord[0]:start_coord[0] + thumb_tile_w + 1]\n",
    "            if not np.any(area > 0):\n",
    "                if keep_image(select_tile(slide, level, math.floor(start_coord[1] / thumb_h * level_h), math.floor(start_coord[0] / thumb_w * level_w))):\n",
    "                    start_coords.append(start_coord)\n",
    "    start_coords_conv = [(math.floor(y / thumb_h * level_h), math.floor(x / thumb_w * level_w)) for (x, y) in start_coords]\n",
    "    return start_coords_conv\n",
    "def create_images(file_name, zoom):\n",
    "    s = openslide.OpenSlide(file_name)\n",
    "    coords = possible_coordinates(s, zoom)\n",
    "    gen = create_tile_generator(s, 512, 0)\n",
    "    level = get_zoom_level(s, zoom, gen)\n",
    "    tiles = []\n",
    "    for coord in coords:\n",
    "        tiles.append(normalize_staining(select_tile(s, level, coord[0], coord[1])))\n",
    "    return tiles"
   ]
  },
  {
   "cell_type": "code",
   "execution_count": 58,
   "metadata": {},
   "outputs": [],
   "source": [
    "#images = create_images(r'C:\\Users\\matthew\\Downloads\\TCGA-HC-7081-01A-01-TS1.6d85eaa2-aaa8-404c-8be1-f1be693b1792.svs', 20)\n",
    "images = create_images(r'C:\\Users\\matthew\\Documents\\ScienceFair2017-2018\\ManifestDownloads\\SVSManifest\\f6b8eed7-0257-40cd-802a-e67afcbe5102\\TCGA-G9-6373-01A-01-BS1.d6266ca4-7e0e-42c1-8bef-2bd778a8f279.svs', 20)\n",
    "#images = create_images(r'C:\\Users\\matthew\\Documents\\ScienceFair2017-2018\\ManifestDownloads\\SVSManifest\\927895bc-1e6a-499e-9877-745bcb469117\\TCGA-XK-AAK1-01Z-00-DX1.5354527B-905C-4F39-B469-3A64D0BC56A2.svs', 20)\n",
    "print_image(images)"
   ]
  },
  {
   "cell_type": "code",
   "execution_count": 8,
   "metadata": {},
   "outputs": [],
   "source": [
    "#r'C:\\Users\\matthew\\Documents\\ScienceFair2017-2018\\ManifestDownloads\\SVSManifest\\0f6a4d62-bf78-4550-8809-b07e0aec2e0f\\TCGA-KK-A8IM-01A-01-TS1.65605135-114E-4534-91DC-BDCD5222DE49.svs'\n",
    "#r'C:\\Users\\matthew\\Downloads\\TCGA-HC-7081-01A-01-TS1.6d85eaa2-aaa8-404c-8be1-f1be693b1792.svs'\n",
    "def keep_image(img):\n",
    "    avg = [img[:, :, i].mean() for i in range(img.shape[-1])]\n",
    "    avg_pix = np.array(avg).mean()\n",
    "    if avg_pix >= 200:\n",
    "        return False\n",
    "    else:\n",
    "        return True\n",
    "def test_image(img2, coords):\n",
    "    img = img2.copy()\n",
    "    print(img.shape)\n",
    "    for coord in coords:\n",
    "        img.itemset((coord[0],coord[1], 0), 0)\n",
    "        img.itemset((coord[0],coord[1], 1), 255)\n",
    "        img.itemset((coord[0],coord[1], 2), 0)\n",
    "    cv2.imshow('img', img)\n",
    "    cv2.waitKey(0)\n",
    "    cv2.destroyAllWindows()\n",
    "def print_image(img):\n",
    "    if isinstance(img, list):\n",
    "        for i in range(len(img)):\n",
    "            cv2.imshow('img{}'.format(i), img[i])\n",
    "    else:\n",
    "        cv2.imshow('img', img)\n",
    "    cv2.waitKey(0)\n",
    "    cv2.destroyAllWindows()"
   ]
  },
  {
   "cell_type": "code",
   "execution_count": 76,
   "metadata": {},
   "outputs": [],
   "source": [
    "print_image(images)"
   ]
  },
  {
   "cell_type": "code",
   "execution_count": 137,
   "metadata": {},
   "outputs": [],
   "source": [
    "def get_avg_pix(img):\n",
    "    avg = [img[:, :, i].mean() for i in range(img.shape[-1])]\n",
    "    return avg"
   ]
  },
  {
   "cell_type": "code",
   "execution_count": 153,
   "metadata": {},
   "outputs": [
    {
     "name": "stdout",
     "output_type": "stream",
     "text": [
      "[192.80795288085938, 167.06353378295898, 202.19671249389648]\n"
     ]
    }
   ],
   "source": [
    "final_im = images.copy()\n",
    "max_color = get_avg_pix(images[0])\n",
    "print(max_color)"
   ]
  },
  {
   "cell_type": "code",
   "execution_count": 9,
   "metadata": {},
   "outputs": [],
   "source": [
    "#max_color [192.80795288085938, 167.06353378295898, 202.19671249389]\n",
    "stain_ref = [[ 0.50283219,  0.34453637],\n",
    "              [ 0.7963168 ,  0.71543068],\n",
    "              [ 0.33621323,  0.60782698]]\n",
    "        \n",
    "max_sat_ref = [[ 0.47047266],\n",
    "               [ 0.58016781]]\n",
    "#max_colors = np.array(max_color).mean()"
   ]
  },
  {
   "cell_type": "code",
   "execution_count": 12,
   "metadata": {},
   "outputs": [],
   "source": [
    "global max_color\n",
    "max_color = [192.80795288085938, 167.06353378295898, 202.19671249389]\n"
   ]
  },
  {
   "cell_type": "code",
   "execution_count": 172,
   "metadata": {},
   "outputs": [
    {
     "data": {
      "text/plain": [
       "array([[ 0.47047266],\n",
       "       [ 0.58016781]])"
      ]
     },
     "execution_count": 172,
     "metadata": {},
     "output_type": "execute_result"
    }
   ],
   "source": [
    "tup[1]"
   ]
  },
  {
   "cell_type": "code",
   "execution_count": null,
   "metadata": {},
   "outputs": [],
   "source": []
  }
 ],
 "metadata": {
  "celltoolbar": "Raw Cell Format",
  "kernelspec": {
   "display_name": "Python 3",
   "language": "python",
   "name": "python3"
  },
  "language_info": {
   "codemirror_mode": {
    "name": "ipython",
    "version": 3
   },
   "file_extension": ".py",
   "mimetype": "text/x-python",
   "name": "python",
   "nbconvert_exporter": "python",
   "pygments_lexer": "ipython3",
   "version": "3.6.3"
  }
 },
 "nbformat": 4,
 "nbformat_minor": 2
}
