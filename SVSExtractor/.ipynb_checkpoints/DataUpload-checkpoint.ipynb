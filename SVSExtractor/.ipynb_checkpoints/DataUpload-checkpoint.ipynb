{
 "cells": [
  {
   "cell_type": "code",
   "execution_count": 1,
   "metadata": {},
   "outputs": [],
   "source": [
    "%run code/svsutil\n",
    "import pyodbc\n",
    "import os"
   ]
  },
  {
   "cell_type": "code",
   "execution_count": null,
   "metadata": {},
   "outputs": [],
   "source": [
    "server = r'localhost\\SQLEXPRESS'\n",
    "database = 'Patients'\n",
    "cnxn = pyodbc.connect('DRIVER={ODBC Driver 13 for SQL Server};SERVER='+server+';DATABASE='+database+';Trusted_Connection=yes;')\n",
    "cursor = cnxn.cursor()\n",
    "cnxn.autocommit = True"
   ]
  },
  {
   "cell_type": "code",
   "execution_count": 2,
   "metadata": {},
   "outputs": [],
   "source": [
    "svs_directory = r'C:\\Users\\matthew\\Documents\\ScienceFair2017-2018\\ManifestDownloads\\SVSManifest'\n",
    "folder_names = [file for file in os.listdir(svs_directory) if file[-3:] != 'png']\n",
    "file_names = []\n",
    "for folder in folder_names:\n",
    "    file_name_directory = os.listdir(svs_directory + '\\\\' + folder)\n",
    "    for file_name in file_name_directory:\n",
    "        if file_name[-3:] == 'svs':\n",
    "            file_names.append(svs_directory + '\\\\' + folder + '\\\\' + file_name)"
   ]
  },
  {
   "cell_type": "code",
   "execution_count": 3,
   "metadata": {},
   "outputs": [],
   "source": [
    "images = create_images(r\"C:\\Users\\matthew\\Downloads\\TCGA-HC-7081-01A-01-TS1.6d85eaa2-aaa8-404c-8be1-f1be693b1792.svs\", 20)"
   ]
  },
  {
   "cell_type": "code",
   "execution_count": 5,
   "metadata": {},
   "outputs": [
    {
     "name": "stdout",
     "output_type": "stream",
     "text": [
      "99\r"
     ]
    }
   ],
   "source": [
    "OBJECTIVE_POWER = 30\n",
    "output_data = []\n",
    "x = 0\n",
    "for file in file_names:\n",
    "    images = create_images(file, OBJECTIVE_POWER, 20, 512)\n",
    "    for i in range(len(images)):\n",
    "        save_image(images[i], svs_directory + '\\\\' + file[-64:] + '_objective{}tile{}'.format(OBJECTIVE_POWER, i))\n",
    "    print(x, end='\\r', sep=' ')\n",
    "    x += 1"
   ]
  },
  {
   "cell_type": "code",
   "execution_count": 11,
   "metadata": {},
   "outputs": [],
   "source": [
    "save_image(images[0], r'C:\\Users\\matthew\\Documents\\ScienceFair2017-2018\\ManifestDownloads\\SVSManifest' + '\\\\' + 'test_img')"
   ]
  },
  {
   "cell_type": "code",
   "execution_count": 12,
   "metadata": {},
   "outputs": [
    {
     "data": {
      "text/plain": [
       "'C:\\\\Users\\\\matthew\\\\Downloads\\\\TCGA-HC-7081-01A-01-TS1.6d85eaa2-aaa8-404c-8be1-f1be693b1792'"
      ]
     },
     "execution_count": 12,
     "metadata": {},
     "output_type": "execute_result"
    }
   ],
   "source": [
    "test_string = r\"C:\\Users\\matthew\\Downloads\\TCGA-HC-7081-01A-01-TS1.6d85eaa2-aaa8-404c-8be1-f1be693b1792.svs\"\n",
    "test_string[:-4]"
   ]
  },
  {
   "cell_type": "code",
   "execution_count": 4,
   "metadata": {},
   "outputs": [
    {
     "data": {
      "text/plain": [
       "100"
      ]
     },
     "execution_count": 4,
     "metadata": {},
     "output_type": "execute_result"
    }
   ],
   "source": [
    "len(file_names)"
   ]
  },
  {
   "cell_type": "code",
   "execution_count": 26,
   "metadata": {},
   "outputs": [
    {
     "data": {
      "text/plain": [
       "'C:\\\\Users\\\\matthew\\\\Documents\\\\ScienceFair2017-2018\\\\ManifestDownloads\\\\SVSManifest'"
      ]
     },
     "execution_count": 26,
     "metadata": {},
     "output_type": "execute_result"
    }
   ],
   "source": [
    "file_names[0][:-102]"
   ]
  },
  {
   "cell_type": "code",
   "execution_count": null,
   "metadata": {},
   "outputs": [],
   "source": [
    "C:\\\\Users\\\\matthew\\\\Documents\\\\ScienceFair2017-2018\\\\ManifestDownloads\\\\SVSManifest\\\\019c25da-5505-446f-9626-efa01a0c6595\\\\TCGA-KK-A7AW-11A-01-TS1.10C22879-6643-446E-B811-2356B4FD89EC.svs"
   ]
  }
 ],
 "metadata": {
  "kernelspec": {
   "display_name": "Python 3",
   "language": "python",
   "name": "python3"
  },
  "language_info": {
   "codemirror_mode": {
    "name": "ipython",
    "version": 3
   },
   "file_extension": ".py",
   "mimetype": "text/x-python",
   "name": "python",
   "nbconvert_exporter": "python",
   "pygments_lexer": "ipython3",
   "version": "3.6.3"
  }
 },
 "nbformat": 4,
 "nbformat_minor": 2
}
