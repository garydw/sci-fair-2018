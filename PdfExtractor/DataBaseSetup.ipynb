{
 "cells": [
  {
   "cell_type": "code",
   "execution_count": 2,
   "metadata": {},
   "outputs": [],
   "source": [
    "import pyodbc\n",
    "import json\n",
    "with open(r\"C:\\Users\\matthew\\Documents\\Science Fair 2017-2018\\PDFMetadata.json\") as file:\n",
    "    metadata = json.load(file)\n"
   ]
  },
  {
   "cell_type": "code",
   "execution_count": 19,
   "metadata": {},
   "outputs": [
    {
     "data": {
      "text/plain": [
       "{'access': 'open',\n",
       " 'archive': {'archive_id': '7e736a5d-73cc-40a5-8e8c-e2c126805771',\n",
       "  'data_category': 'Archive',\n",
       "  'data_format': 'TARGZ',\n",
       "  'data_type': 'TCGA DCC Archive',\n",
       "  'file_name': 'nationwidechildrens.org_PRAD.pathology_reports.Level_1.429.5.0.tar.gz',\n",
       "  'file_size': 13438682,\n",
       "  'file_state': 'submitted',\n",
       "  'md5sum': '450d36c7580c64cb4e5c31957cf0afb0',\n",
       "  'revision': 5,\n",
       "  'state': 'live',\n",
       "  'submitter_id': 'nationwidechildrens.org_PRAD.pathology_reports.Level_1.429',\n",
       "  'updated_datetime': '2017-03-04T16:43:58.641267-06:00'},\n",
       " 'associated_entities': [{'case_id': '9c8447ac-5b26-4558-8bfd-f0e7046c1fb9',\n",
       "   'entity_id': '9c8447ac-5b26-4558-8bfd-f0e7046c1fb9',\n",
       "   'entity_submitter_id': 'TCGA-MG-AAMC',\n",
       "   'entity_type': 'case'}],\n",
       " 'cases': [{'case_id': '9c8447ac-5b26-4558-8bfd-f0e7046c1fb9',\n",
       "   'created_datetime': None,\n",
       "   'demographic': {'created_datetime': None,\n",
       "    'demographic_id': '26d5af4d-e548-5428-936f-32e65e44f8ad',\n",
       "    'ethnicity': 'not reported',\n",
       "    'gender': 'male',\n",
       "    'race': 'not reported',\n",
       "    'state': 'live',\n",
       "    'submitter_id': 'TCGA-MG-AAMC_demographic',\n",
       "    'updated_datetime': '2017-03-04T16:37:28.862150-06:00',\n",
       "    'year_of_birth': 1954,\n",
       "    'year_of_death': None},\n",
       "   'diagnoses': [{'age_at_diagnosis': 21846.0,\n",
       "     'classification_of_tumor': 'not reported',\n",
       "     'created_datetime': None,\n",
       "     'days_to_birth': -21846.0,\n",
       "     'days_to_death': None,\n",
       "     'days_to_last_follow_up': 173.0,\n",
       "     'days_to_last_known_disease_status': None,\n",
       "     'days_to_recurrence': None,\n",
       "     'diagnosis_id': '72063640-9aaa-55d5-8901-ec9f19ffc338',\n",
       "     'last_known_disease_status': 'not reported',\n",
       "     'morphology': '8140/3',\n",
       "     'primary_diagnosis': 'c61',\n",
       "     'prior_malignancy': 'not reported',\n",
       "     'progression_or_recurrence': 'not reported',\n",
       "     'site_of_resection_or_biopsy': 'c61.9',\n",
       "     'state': 'live',\n",
       "     'submitter_id': 'TCGA-MG-AAMC_diagnosis',\n",
       "     'tissue_or_organ_of_origin': 'c61.9',\n",
       "     'treatments': [{'created_datetime': None,\n",
       "       'days_to_treatment': None,\n",
       "       'state': 'live',\n",
       "       'submitter_id': 'TCGA-MG-AAMC_treatment',\n",
       "       'therapeutic_agents': None,\n",
       "       'treatment_id': '4da04ce0-d218-59f6-8041-ee69aced436e',\n",
       "       'treatment_intent_type': None,\n",
       "       'treatment_or_therapy': None,\n",
       "       'updated_datetime': '2017-03-04T16:43:59.646072-06:00'}],\n",
       "     'tumor_grade': 'not reported',\n",
       "     'tumor_stage': 'not reported',\n",
       "     'updated_datetime': '2017-03-04T16:44:35.784223-06:00',\n",
       "     'vital_status': 'alive'}],\n",
       "   'disease_type': 'Prostate Adenocarcinoma',\n",
       "   'exposures': [{'alcohol_history': None,\n",
       "     'alcohol_intensity': None,\n",
       "     'bmi': None,\n",
       "     'cigarettes_per_day': None,\n",
       "     'created_datetime': None,\n",
       "     'exposure_id': 'e2cb7605-476f-56ed-b18b-22305ff5c813',\n",
       "     'height': None,\n",
       "     'state': 'live',\n",
       "     'submitter_id': 'TCGA-MG-AAMC_exposure',\n",
       "     'updated_datetime': '2017-03-04T16:37:25.850486-06:00',\n",
       "     'weight': None,\n",
       "     'years_smoked': None}],\n",
       "   'primary_site': 'Prostate',\n",
       "   'project': {'project_id': 'TCGA-PRAD'},\n",
       "   'state': 'live',\n",
       "   'submitter_id': 'TCGA-MG-AAMC',\n",
       "   'updated_datetime': '2017-03-04T16:39:19.244769-06:00'}],\n",
       " 'center': {'center_id': 'a6b3bcf1-9ca6-56e9-8f04-0e3a63e60a6a',\n",
       "  'center_type': 'BCR',\n",
       "  'code': '36',\n",
       "  'name': \"Nationwide Children's Hospital BCR\",\n",
       "  'namespace': 'nationwidechildrens.org',\n",
       "  'short_name': 'NCH'},\n",
       " 'data_category': 'Clinical',\n",
       " 'data_format': 'PDF',\n",
       " 'data_type': 'Pathology report',\n",
       " 'file_id': '6eff5e94-846c-43bc-a29d-00c105afcbf9',\n",
       " 'file_name': 'TCGA-MG-AAMC.CBC765C1-9191-4A40-979F-CF2434B10CAB.pdf',\n",
       " 'file_size': 135069,\n",
       " 'md5sum': '796e744b834fcd96d6eb5162ee19700d',\n",
       " 'platform': 'Clinical',\n",
       " 'state': 'live',\n",
       " 'submitter_id': None}"
      ]
     },
     "execution_count": 19,
     "metadata": {},
     "output_type": "execute_result"
    }
   ],
   "source": [
    "metadata[0]"
   ]
  },
  {
   "cell_type": "code",
   "execution_count": 14,
   "metadata": {},
   "outputs": [
    {
     "name": "stdout",
     "output_type": "stream",
     "text": [
      "TCGA-KK-A6E1\n"
     ]
    }
   ],
   "source": [
    "print(metadata[1]['associated_entities'][0]['entity_submitter_id'])"
   ]
  },
  {
   "cell_type": "code",
   "execution_count": 17,
   "metadata": {},
   "outputs": [
    {
     "name": "stdout",
     "output_type": "stream",
     "text": [
      "TCGA-KK-A6E1.E8264E2D-E4BB-40BB-9305-18DDD777D664.pdf\n"
     ]
    },
    {
     "ename": "KeyError",
     "evalue": "'ODBC Driver 13 for SQL Server'",
     "output_type": "error",
     "traceback": [
      "\u001b[1;31m---------------------------------------------------------------------------\u001b[0m",
      "\u001b[1;31mKeyError\u001b[0m                                  Traceback (most recent call last)",
      "\u001b[1;32m<ipython-input-17-f5bf2f4292e8>\u001b[0m in \u001b[0;36m<module>\u001b[1;34m()\u001b[0m\n\u001b[0;32m      1\u001b[0m \u001b[0mprint\u001b[0m\u001b[1;33m(\u001b[0m\u001b[0mmetadata\u001b[0m\u001b[1;33m[\u001b[0m\u001b[1;36m1\u001b[0m\u001b[1;33m]\u001b[0m\u001b[1;33m[\u001b[0m\u001b[1;34m'file_name'\u001b[0m\u001b[1;33m]\u001b[0m\u001b[1;33m)\u001b[0m\u001b[1;33m\u001b[0m\u001b[0m\n\u001b[1;32m----> 2\u001b[1;33m \u001b[1;34m'DRIVER={ODBC Driver 13 for SQL Server};SERVER={0};DATABASE={1};Trusted_Connection=yes;'\u001b[0m\u001b[1;33m.\u001b[0m\u001b[0mformat\u001b[0m\u001b[1;33m(\u001b[0m\u001b[1;34m'bob'\u001b[0m\u001b[1;33m,\u001b[0m \u001b[1;34m'john'\u001b[0m\u001b[1;33m)\u001b[0m\u001b[1;33m\u001b[0m\u001b[0m\n\u001b[0m",
      "\u001b[1;31mKeyError\u001b[0m: 'ODBC Driver 13 for SQL Server'"
     ]
    }
   ],
   "source": [
    "print(metadata[1]['file_name'])\n",
    "'DRIVER={ODBC Driver 13 for SQL Server};SERVER={0};DATABASE={1};Trusted_Connection=yes;'.format('bob', 'john')"
   ]
  },
  {
   "cell_type": "code",
   "execution_count": 24,
   "metadata": {},
   "outputs": [],
   "source": [
    "server = r'localhost\\SQLEXPRESS'\n",
    "database = 'Patients'\n",
    "cnxn = pyodbc.connect('DRIVER={ODBC Driver 13 for SQL Server};SERVER='+server+';DATABASE='+database+';Trusted_Connection=yes;')\n",
    "cursor = cnxn.cursor()\n",
    "cnxn.autocommit = True;\n",
    "for patient in metadata:\n",
    "    entity = patient['associated_entities'][0]['entity_submitter_id']\n",
    "    pdf = patient['file_name']\n",
    "    #print('insert into Patient (EntityID, PdfFileName) values({},{})'.format(entity,pdf))\n",
    "    cursor.execute(\"insert into Patient (EntityID, PdfFileName) values('{}','{}')\".format(entity,pdf))"
   ]
  },
  {
   "cell_type": "code",
   "execution_count": null,
   "metadata": {},
   "outputs": [],
   "source": []
  }
 ],
 "metadata": {
  "kernelspec": {
   "display_name": "Python 3",
   "language": "python",
   "name": "python3"
  },
  "language_info": {
   "codemirror_mode": {
    "name": "ipython",
    "version": 3
   },
   "file_extension": ".py",
   "mimetype": "text/x-python",
   "name": "python",
   "nbconvert_exporter": "python",
   "pygments_lexer": "ipython3",
   "version": "3.6.3"
  }
 },
 "nbformat": 4,
 "nbformat_minor": 2
}
