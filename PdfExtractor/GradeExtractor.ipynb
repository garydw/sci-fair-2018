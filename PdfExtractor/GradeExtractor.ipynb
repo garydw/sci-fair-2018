{
 "cells": [
  {
   "cell_type": "code",
   "execution_count": 5,
   "metadata": {},
   "outputs": [],
   "source": [
    "pdf_directory = r'C:\\Users\\matthew\\Documents\\Science Fair 2017-2018\\ManifestDownloads\\PDFManifest'\n",
    "import pyodbc\n",
    "import re\n",
    "import os"
   ]
  },
  {
   "cell_type": "code",
   "execution_count": 12,
   "metadata": {},
   "outputs": [],
   "source": [
    "patients = []\n",
    "for file in os.listdir(pdf_directory):\n",
    "    if file[0:1] == 'T':\n",
    "        content = ''\n",
    "        f = open(pdf_directory + '\\\\' + file)\n",
    "        for line in f:\n",
    "            content += line\n",
    "        content = content.lower()\n",
    "        grade1 = 0\n",
    "        grade2 = 0\n",
    "        #print(re.findall(r'\\d\\s*[+]\\s*\\d', content))\n",
    "        if len(re.findall(r'(\\d)\\s*[+]\\s*(\\d)', content)) == 1:\n",
    "            grade1, grade2 = re.search(r'(\\d)\\s*[+]\\s*(\\d)', content).groups()\n",
    "        elif len(re.findall(r'\\d\\s*[+]\\s*\\d', content)) > 1:\n",
    "            if len(set(re.findall(r'\\d\\s*[+]\\s*\\d', content))) == 1:\n",
    "                grade1, grade2 = re.search(r'(\\d)\\s*[+]\\s*(\\d)', content).groups()\n",
    "            else:\n",
    "                nums = []\n",
    "                l = re.findall(r'\\d\\s*[+]\\s*\\d', content)\n",
    "                s = list(set(l))\n",
    "                for index in range(len(s)):\n",
    "                    nums.append(0)\n",
    "                    for grade in l:\n",
    "                        if (grade == s[index]):\n",
    "                            nums[index] += 1\n",
    "                if sorted(nums)[-1] > sorted(nums)[-2]:\n",
    "                    grade1, grade2 = re.search(r'(\\d)\\s*[+]\\s*(\\d)', s[nums.index(max(nums))]).groups()\n",
    "        elif len(re.findall(r'primary\\D{,20}\\d', content)) == 1 and len(re.findall(r'secondary\\D{,20}\\d', content)) == 1:\n",
    "            grade1 = re.search(r'primary\\D{,20}(\\d)', content).group(1)\n",
    "            grade2 = re.search(r'secondary\\D{,20}(\\d)', content).group(1)\n",
    "        patients.append((file, grade1, grade2))"
   ]
  },
  {
   "cell_type": "code",
   "execution_count": 17,
   "metadata": {},
   "outputs": [
    {
     "ename": "ProgrammingError",
     "evalue": "('42000', \"[42000] [Microsoft][ODBC Driver 13 for SQL Server][SQL Server]Incorrect syntax near 'A'. (102) (SQLExecDirectW)\")",
     "output_type": "error",
     "traceback": [
      "\u001b[1;31m---------------------------------------------------------------------------\u001b[0m",
      "\u001b[1;31mProgrammingError\u001b[0m                          Traceback (most recent call last)",
      "\u001b[1;32m<ipython-input-17-990fe0a348f0>\u001b[0m in \u001b[0;36m<module>\u001b[1;34m()\u001b[0m\n\u001b[0;32m      6\u001b[0m \u001b[1;32mfor\u001b[0m \u001b[0mpatient\u001b[0m \u001b[1;32min\u001b[0m \u001b[0mpatients\u001b[0m\u001b[1;33m:\u001b[0m\u001b[1;33m\u001b[0m\u001b[0m\n\u001b[0;32m      7\u001b[0m     cursor.execute('update Patient set GleasonGradePrimary = {}, GleasonGradeSecondary = {} where EntityID = {}'.format(\n\u001b[1;32m----> 8\u001b[1;33m     patient[1], patient[2], patient[0]))\n\u001b[0m",
      "\u001b[1;31mProgrammingError\u001b[0m: ('42000', \"[42000] [Microsoft][ODBC Driver 13 for SQL Server][SQL Server]Incorrect syntax near 'A'. (102) (SQLExecDirectW)\")"
     ]
    }
   ],
   "source": [
    "server = r'localhost\\SQLEXPRESS'\n",
    "database = 'Patients'\n",
    "cnxn = pyodbc.connect('DRIVER={ODBC Driver 13 for SQL Server};SERVER='+server+';DATABASE='+database+';Trusted_Connection=yes;')\n",
    "cursor = cnxn.cursor()\n",
    "cnxn.autocommit = True"
   ]
  },
  {
   "cell_type": "code",
   "execution_count": 19,
   "metadata": {},
   "outputs": [],
   "source": [
    "for patient in patients:\n",
    "    cursor.execute(\"update Patient set GleasonGradePrimary = {}, GleasonGradeSecondary = {} where EntityID = '{}'\".format(\n",
    "    patient[1], patient[2], patient[0]))"
   ]
  },
  {
   "cell_type": "code",
   "execution_count": null,
   "metadata": {},
   "outputs": [],
   "source": []
  }
 ],
 "metadata": {
  "kernelspec": {
   "display_name": "Python 3",
   "language": "python",
   "name": "python3"
  },
  "language_info": {
   "codemirror_mode": {
    "name": "ipython",
    "version": 3
   },
   "file_extension": ".py",
   "mimetype": "text/x-python",
   "name": "python",
   "nbconvert_exporter": "python",
   "pygments_lexer": "ipython3",
   "version": "3.6.3"
  }
 },
 "nbformat": 4,
 "nbformat_minor": 2
}
