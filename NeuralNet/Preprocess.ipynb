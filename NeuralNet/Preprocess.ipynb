{
 "cells": [
  {
   "cell_type": "code",
   "execution_count": 15,
   "metadata": {},
   "outputs": [],
   "source": [
    "import cv2\n",
    "import numpy as np\n",
    "from scipy import ndimage\n",
    "import random\n",
    "import pyodbc"
   ]
  },
  {
   "cell_type": "code",
   "execution_count": 16,
   "metadata": {},
   "outputs": [],
   "source": [
    "def read_files(directory):\n",
    "    files = []\n",
    "    for nm in os.listdir(directory):\n",
    "        if file[-3:] == 'png':\n",
    "            files.append(file)\n",
    "    return files\n",
    "def read_images(files, directory):\n",
    "    images = [cv2.imread(directory + '\\\\' + file) for file in files]\n",
    "    return np.array(images)\n",
    "\n",
    "def horizontal_flip(images):\n",
    "    flipped = [cv2.flip(img, 0) for img in images]\n",
    "    return flipped\n",
    "\n",
    "def vertical_flip(images):\n",
    "    flipped = [cv2.flip(img, 1) for img in images]\n",
    "    return flipped\n",
    "\n",
    "def rotations(images):\n",
    "    im_shape = images.shape\n",
    "    rotated = np.array([[ndimage.rotate(img, (x + 1) * 90) for x in range(2)] for img in images])\n",
    "    flattened = rotated.reshape(im_shape[0] * 3, images[1], images[2], images[3])\n",
    "    return flattened\n",
    "\n",
    "def noise(images):\n",
    "    rand = np.random.randint(0, 50, tuple(images.shape))\n",
    "    noised = images + rand\n",
    "    return noised            \n",
    "    \n",
    "def prepare_data(training, labels):\n",
    "    horz = horizontal_flip(training)\n",
    "    vert = vertical_flip(training)\n",
    "    noised = noise(training)\n",
    "    rot = rotations(training)\n",
    "    new_labels = np.concatenate((np.tile(labels, 4), np.repeat(labels, 3)))\n",
    "    new_training = np.concatenate((training, horz, vert, noised, rot))\n",
    "    return new_training, new_labels"
   ]
  },
  {
   "cell_type": "code",
   "execution_count": 18,
   "metadata": {},
   "outputs": [],
   "source": [
    "def get_cursor():\n",
    "    server = r'localhost\\SQLEXPRESS'\n",
    "    database = 'Patients'\n",
    "    cnxn = pyodbc.connect('DRIVER={ODBC Driver 13 for SQL Server};SERVER='+server+';DATABASE='+database+';Trusted_Connection=yes;')\n",
    "    cursor = cnxn.cursor()\n",
    "    cnxn.autocommit = True\n",
    "    return cursor"
   ]
  },
  {
   "cell_type": "code",
   "execution_count": 26,
   "metadata": {},
   "outputs": [],
   "source": [
    "def get_labels(files, cursor):\n",
    "    labels = []\n",
    "    for patient in files:\n",
    "        cursor.execute(\"select GleasonGradePrimary, GleasonGradeSecondary from Patient where EntityID = '{}'\".format(patient[0:12]))\n",
    "        labels.append(cursor.fetchone())\n",
    "    return labels"
   ]
  },
  {
   "cell_type": "code",
   "execution_count": 27,
   "metadata": {},
   "outputs": [],
   "source": [
    "def data(directory):\n",
    "    files = read_files(directory)\n",
    "    pre_images = read_images(files, directory)\n",
    "    cursor = get_cursor()\n",
    "    pre_labels = get_labels(files, cursor)\n",
    "    training, labels = preapare_data(pre_images, pre_labels)\n",
    "    return training, labels"
   ]
  },
  {
   "cell_type": "code",
   "execution_count": null,
   "metadata": {},
   "outputs": [],
   "source": []
  }
 ],
 "metadata": {
  "kernelspec": {
   "display_name": "Python 3",
   "language": "python",
   "name": "python3"
  },
  "language_info": {
   "codemirror_mode": {
    "name": "ipython",
    "version": 3
   },
   "file_extension": ".py",
   "mimetype": "text/x-python",
   "name": "python",
   "nbconvert_exporter": "python",
   "pygments_lexer": "ipython3",
   "version": "3.6.3"
  }
 },
 "nbformat": 4,
 "nbformat_minor": 2
}
